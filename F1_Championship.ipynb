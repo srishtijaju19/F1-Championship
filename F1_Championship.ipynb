{
  "nbformat": 4,
  "nbformat_minor": 0,
  "metadata": {
    "colab": {
      "provenance": [],
      "authorship_tag": "ABX9TyNSGolmldw1ZgW0arNc1Vb9",
      "include_colab_link": true
    },
    "kernelspec": {
      "name": "python3",
      "display_name": "Python 3"
    },
    "language_info": {
      "name": "python"
    }
  },
  "cells": [
    {
      "cell_type": "markdown",
      "metadata": {
        "id": "view-in-github",
        "colab_type": "text"
      },
      "source": [
        "<a href=\"https://colab.research.google.com/github/srishtijaju19/F1-Championship/blob/main/F1_Championship.ipynb\" target=\"_parent\"><img src=\"https://colab.research.google.com/assets/colab-badge.svg\" alt=\"Open In Colab\"/></a>"
      ]
    },
    {
      "cell_type": "code",
      "execution_count": null,
      "metadata": {
        "id": "bEhPUu_TXs77"
      },
      "outputs": [],
      "source": []
    },
    {
      "cell_type": "markdown",
      "source": [
        "f1\n"
      ],
      "metadata": {
        "id": "ilMY2rHHX1fN"
      }
    },
    {
      "cell_type": "code",
      "source": [],
      "metadata": {
        "id": "FCQyiRaaYTwh"
      },
      "execution_count": null,
      "outputs": []
    }
  ]
}